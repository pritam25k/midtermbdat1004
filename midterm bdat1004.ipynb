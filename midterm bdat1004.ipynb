{
 "cells": [
  {
   "cell_type": "markdown",
   "id": "14952b2e",
   "metadata": {},
   "source": [
    "# Question 21\n",
    "\n",
    "\n",
    "In a jupyter notebook solve the following question. Please upload the notebook to GitHub and provide the link submission box below.\n",
    "\n",
    " \n",
    "\n",
    "__int()__: Constructor that takes as input a pair of Point objects that represent the ends points of the line segment\n",
    "\n",
    "Length():: returns the length if the segment \n",
    "\n",
    "Slope() returns the slope of the segment of none if the slope is unbounded \n",
    "\n",
    " \n",
    "\n",
    ">>> p1 = Point(3,4)\n",
    "\n",
    ">>> p2 = Point()\n",
    "\n",
    ">>> s = Segment(p1,p2)\n",
    "\n",
    ">>> s.length()\n",
    "\n",
    "5.0\n",
    "\n",
    ">>> s.slope()\n",
    "\n",
    "0.75"
   ]
  },
  {
   "cell_type": "code",
   "execution_count": 1,
   "id": "37bd6da5",
   "metadata": {},
   "outputs": [
    {
     "name": "stdout",
     "output_type": "stream",
     "text": [
      "The length of the segment is: 5.0\n",
      "The slope of the segment is: 0.75\n"
     ]
    }
   ],
   "source": [
    "import math\n",
    "\n",
    "class Point:\n",
    "    def __init__(self, x=0, y=0):  \n",
    "        self.x_coordinate = x\n",
    "        self.y_coordinate = y\n",
    "\n",
    "class Segment:\n",
    "    def __init__(self, point1, point2):\n",
    "        self.point1 = point1\n",
    "        self.point2 = point2\n",
    "\n",
    "    def calculate_length(self):\n",
    "        \n",
    "        length = math.sqrt((self.point2.x_coordinate - self.point1.x_coordinate) ** 2 + (self.point2.y_coordinate - self.point1.y_coordinate) ** 2)\n",
    "        print(\"The length of the segment is:\", length)\n",
    "\n",
    "    def calculate_slope(self):\n",
    "       \n",
    "        if self.point2.x_coordinate - self.point1.x_coordinate == 0:\n",
    "            slope = \"undefined\"  \n",
    "        else:\n",
    "            slope = (self.point2.y_coordinate - self.point1.y_coordinate) / (self.point2.x_coordinate - self.point1.x_coordinate)\n",
    "        print(\"The slope of the segment is:\", slope)\n",
    "\n",
    "if __name__ == \"__main__\":\n",
    "    \n",
    "    point1 = Point(4, 3)  \n",
    "    point2 = Point(0, 0)\n",
    "    segment = Segment(point1, point2)\n",
    "    segment.calculate_length()\n",
    "    segment.calculate_slope()"
   ]
  },
  {
   "cell_type": "markdown",
   "id": "741b1324",
   "metadata": {},
   "source": [
    "# Question 22"
   ]
  },
  {
   "cell_type": "code",
   "execution_count": 2,
   "id": "bf35d5f0",
   "metadata": {},
   "outputs": [
    {
     "name": "stdout",
     "output_type": "stream",
     "text": [
      "2\n",
      "4\n"
     ]
    }
   ],
   "source": [
    "import sqlite3\n",
    "\n",
    "\n",
    "conn = sqlite3.connect('weather1.db')\n",
    "\n",
    "\n",
    "cur = conn.cursor()\n",
    "\n",
    "\n",
    "cur.execute('''\n",
    "    CREATE TABLE Weather1 (\n",
    "        id INT PRIMARY KEY,\n",
    "        recordDate DATE,\n",
    "        temperature INT\n",
    "    )\n",
    "''')\n",
    "\n",
    "\n",
    "cur.executemany('''\n",
    "    INSERT INTO Weather1 (id, recordDate, temperature)\n",
    "    VALUES (?, ?, ?)\n",
    "''', [\n",
    "    (1, '2015-01-01', 10),\n",
    "    (2, '2015-01-02', 25),\n",
    "    (3, '2015-01-03', 20),\n",
    "    (4, '2015-01-04', 30)\n",
    "])\n",
    "\n",
    "\n",
    "conn.commit()\n",
    "\n",
    "\n",
    "cur.execute('''\n",
    "    SELECT w1.id\n",
    "    FROM Weather1 w1\n",
    "    JOIN Weather1 w2\n",
    "    ON w1.recordDate = DATE(w2.recordDate, '+1 day')\n",
    "    WHERE w1.temperature > w2.temperature\n",
    "''')\n",
    "\n",
    "\n",
    "results = cur.fetchall()\n",
    "for row in results:\n",
    "    print(row[0])\n",
    "\n",
    "\n",
    "conn.close()"
   ]
  },
  {
   "cell_type": "markdown",
   "id": "9d45c553",
   "metadata": {},
   "source": [
    "# Question 23"
   ]
  },
  {
   "cell_type": "code",
   "execution_count": 3,
   "id": "d2bcef18",
   "metadata": {},
   "outputs": [
    {
     "name": "stdout",
     "output_type": "stream",
     "text": [
      "Printing pattern for (0, 0):\n",
      "\n",
      "\n",
      "Printing pattern for (0, 1):\n",
      "*\n",
      "\n",
      "\n",
      "Printing pattern for (0, 2):\n",
      "*\n",
      "**\n",
      " *\n",
      "\n",
      "\n",
      "Printing pattern for (0, 4):\n",
      "*\n",
      "**\n",
      " *\n",
      "****\n",
      " *\n",
      " **\n",
      "  *\n",
      "\n",
      "\n"
     ]
    }
   ],
   "source": [
    "def print_recursive_pattern(indent, size):\n",
    "    def print_pattern(indent, size):\n",
    "        if size > 0:\n",
    "            print_pattern(indent, size // 2)  \n",
    "            print(\" \" * indent + \"*\" * size)    \n",
    "            print_pattern(indent + 1, size // 2) \n",
    "    \n",
    "    print_pattern(indent, size)\n",
    "\n",
    "\n",
    "values_to_print = [0, 1, 2, 4]\n",
    "\n",
    "for value in values_to_print:\n",
    "    print(f\"Printing pattern for (0, {value}):\")\n",
    "    print_recursive_pattern(0, value)\n",
    "    print(\"\\n\")"
   ]
  }
 ],
 "metadata": {
  "kernelspec": {
   "display_name": "Python 3 (ipykernel)",
   "language": "python",
   "name": "python3"
  },
  "language_info": {
   "codemirror_mode": {
    "name": "ipython",
    "version": 3
   },
   "file_extension": ".py",
   "mimetype": "text/x-python",
   "name": "python",
   "nbconvert_exporter": "python",
   "pygments_lexer": "ipython3",
   "version": "3.11.4"
  }
 },
 "nbformat": 4,
 "nbformat_minor": 5
}
